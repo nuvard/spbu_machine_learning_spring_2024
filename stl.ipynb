{
 "cells": [
  {
   "cell_type": "code",
   "execution_count": null,
   "metadata": {
    "collapsed": true,
    "jupyter": {
     "outputs_hidden": true
    }
   },
   "outputs": [],
   "source": [
    "# Разложение временных рядов"
   ]
  },
  {
   "cell_type": "markdown",
   "metadata": {
    "collapsed": false,
    "jupyter": {
     "outputs_hidden": false
    }
   },
   "source": [
    "Разложение временных рядов преобразует временной ряд в несколько различных составляющих. Исходный временной ряд часто разбивается на три компонента:\n",
    "\n",
    "- Сезонный: закономерности, которые повторяются с фиксированным периодом времени.\n",
    "\n",
    "- Трендоввый: основная тенденция. Это наиболее \"медленный\" компонент\n",
    "- Случайный: также называемый «шумом», «нерегулярным» или «остатком». Это остатки исходного временного ряда после удаления сезонных и трендовых рядов./"
   ]
  },
  {
   "cell_type": "markdown",
   "metadata": {
    "collapsed": false,
    "jupyter": {
     "outputs_hidden": false
    }
   },
   "source": [
    "STL — это универсальный и надежный метод декомпозиции временных рядов. STL — это аббревиатура от «Seasonal and Trend decomposition using Loess». Метод STL был разработан Р.Б. Кливлендом, Кливлендом, МакРаем и Терпеннингом (1990).\n",
    "Его плюсы:\n",
    "- Гибкость: STL обладает замечательной адаптивностью, которая позволяет ему обрабатывать данные временных рядов со сложными и постоянно меняющимися шаблонами. В отличие от традиционных методов, STL не ограничивается строгими предположениями о структуре данных.\n",
    "- Устойчивость: он надежно противостоит натиску выбросов и шума, которые часто портят временные ряды. Даже при наличии аномалий STL остается неизменным, обеспечивая надежные результаты декомпозиции. Смягчая влияние выбросов и шума, STL гарантирует, что основные закономерности не будут затмеваться, что позволяет нам с уверенностью извлекать значимую информацию из данных.\n",
    "- Настраиваемость: С помощью STL у вас есть возможность контролировать уровень сглаживания, применяемый к трендовым и сезонным компонентам. Такая возможность настройки позволяет вам найти идеальный баланс между сохранением нюансов данных и извлечением ключевых компонентов, которые определяют ваш анализ.\n",
    "- Простота реализации. В этом мы убедимся на собственном опыте))"
   ]
  },
  {
   "cell_type": "markdown",
   "metadata": {
    "collapsed": false,
    "jupyter": {
     "outputs_hidden": false
    }
   },
   "source": [
    "С другой стороны, STL имеет некоторые недостатки. В частности, он не обрабатывает автоматически изменения календаря и предоставляет только возможности для аддитивной декомпозиции.\n",
    "\n",
    "Можно получить мультипликативное разложение, сначала взяв логарифм от данных, а затем выполнив обратное преобразование компонентов. Разложение между аддитивным и мультипликативным может быть получено с помощью преобразования Бокса-Кокса с $ 0 < \\lambda < 1 $. Значение $λ=0$ соответствует мультипликативному разложению, а $λ=1$  эквивалентно аддитивному разложению."
   ]
  },
  {
   "cell_type": "markdown",
   "metadata": {
    "collapsed": false,
    "jupyter": {
     "outputs_hidden": false
    }
   },
   "source": [
    "Рассмотрим пример применения разложения \"из коробки\". При этом рассмотрим сразу два варианта: обычный и робастный. В качестве примера рассмотрим данные о потреблении электричества.\n",
    "При выборе робастного метода используется зависящая от данных весовая функция, которая повторно взвешивает семплы при оценке LOESS (и, следовательно, при использовании LOWESS).\n",
    "\n",
    "Далее оценим модель с перевзвешиванием и без него. Разница незначительна и наиболее заметна во время финансового кризиса 2008 года. Ненадежная оценка придает одинаковый вес всем наблюдениям и поэтому оставляет в среднем меньшие шумы. Веса варьируются от 0 до 1.\n"
   ]
  },
  {
   "cell_type": "code",
   "execution_count": null,
   "metadata": {
    "collapsed": false,
    "jupyter": {
     "outputs_hidden": false
    }
   },
   "outputs": [],
   "source": [
    "import datetime\n",
    "\n",
    "import matplotlib.pyplot as plt\n",
    "import pandas as pd\n",
    "import numpy as np\n",
    "import seaborn as sns\n",
    "from functools import partial\n",
    "from pandas.plotting import register_matplotlib_converters\n",
    "from statsmodels.datasets import elec_equip as ds\n",
    "from statsmodels.tsa.seasonal import STL, DecomposeResult\n",
    "from scipy.ndimage import uniform_filter1d\n",
    "from sklearn.metrics import mean_squared_error\n",
    "from scipy.linalg import qr\n",
    "from scipy.linalg import solve_triangular\n",
    "\n",
    "register_matplotlib_converters()\n",
    "np.random.seed(42)\n",
    "sns.set_style(\"darkgrid\")"
   ]
  },
  {
   "cell_type": "code",
   "execution_count": null,
   "metadata": {
    "collapsed": false,
    "jupyter": {
     "outputs_hidden": false
    }
   },
   "outputs": [],
   "source": [
    "elec_equip = ds.load().data.iloc[:, 0]"
   ]
  },
  {
   "cell_type": "code",
   "execution_count": null,
   "metadata": {
    "collapsed": false,
    "jupyter": {
     "outputs_hidden": false
    }
   },
   "outputs": [],
   "source": [
    "def add_stl_plot(fig, res, legend):\n",
    "    \"\"\"Add 3 plots from a second STL fit\"\"\"\n",
    "    axs = fig.get_axes()\n",
    "    comps = [\"trend\", \"seasonal\", \"resid\"]\n",
    "    for ax, comp in zip(axs[1:], comps):\n",
    "        series = getattr(res, comp)\n",
    "        if comp == \"resid\":\n",
    "            ax.plot(series, marker=\"o\", linestyle=\"none\")\n",
    "        else:\n",
    "            ax.plot(series)\n",
    "            if comp == \"trend\":\n",
    "                ax.legend(legend, frameon=False)\n",
    "\n",
    "stl = STL(elec_equip, period=12, robust=True)\n",
    "res_robust = stl.fit()\n",
    "fig = res_robust.plot()\n",
    "res_non_robust = STL(elec_equip, period=12, robust=False).fit()\n",
    "add_stl_plot(fig, res_non_robust, [\"Robust\", \"Non-robust\"])"
   ]
  },
  {
   "cell_type": "code",
   "execution_count": null,
   "metadata": {
    "collapsed": false,
    "jupyter": {
     "outputs_hidden": false
    }
   },
   "outputs": [],
   "source": [
    "def solve(x, y, W, deg: int = 1):\n",
    "\n",
    "    A = np.vander(x, N=1+deg) # |  X^2 |X | X^0 ... - we construct polynomial features from x\n",
    "\n",
    "    # x is horizontal, since we need to transpose it to get solution\n",
    "    V = np.matmul(np.matmul(A.T, W), A)  # (X^T W)^T X\n",
    "    Y = np.matmul(np.matmul(A.T, W), y)  # ( X^T W ) y\n",
    "    Q, R = qr(V)  # make triangular from matrix to get easier solution -> (X^T W)^T X = QR -> final equation: R beta = Q^T * ( X^T W ) y makes\n",
    "    p = solve_triangular(R, np.matmul(Q.T, Y)) # helps to solve equation with triangular left matrix\n",
    "    return p\n"
   ]
  },
  {
   "cell_type": "code",
   "execution_count": null,
   "metadata": {
    "collapsed": false,
    "jupyter": {
     "outputs_hidden": false
    }
   },
   "outputs": [],
   "source": [
    "def get_span(x: np.array, y: np.array, x_target: float, k: int) -> tuple[np.typing.NDArray, np.typing.NDArray, np.typing.NDArray]:\n",
    "    \"\"\" Returns distances, x in span and y in span.\n",
    "     x is all the x, x_targte - target x, k - number of neighbours to use\n",
    "     \"\"\"\n",
    "    # get list of distances\n",
    "    distance = abs(x - x_target)\n",
    "    # get sorted distances and corresponding indices (using, for example, np.sort + np.argsort)\n",
    "    sorted_dist = np.sort(distance)\n",
    "    ind = np.argsort(distance)\n",
    "    ind_span = ind[:k]\n",
    "    # we need to use x-s and y-s later in the code, so get them too\n",
    "    x_span = x[ind_span]\n",
    "    y_span = y[ind_span]\n",
    "    # which distance is the biggest?\n",
    "    delta_0 = sorted_dist[-1]\n",
    "    # get normalized distances\n",
    "    u = distance[ind_span] / delta_0\n",
    "    return u, x_span, y_span, ind_span"
   ]
  },
  {
   "cell_type": "code",
   "execution_count": null,
   "metadata": {
    "collapsed": false,
    "jupyter": {
     "outputs_hidden": false
    }
   },
   "outputs": [],
   "source": [
    "def tricub_kernel(dist):\n",
    "    return (1 - dist**3)**3\n",
    "\n",
    "def bell_kernel(dist, tau):\n",
    "    return  np.exp(- dist**2/(2*tau**2))\n",
    "\n",
    "def loess(x, y, kernel, k, deg, weights=None, **kernel_params):\n",
    "    y_pred = np.zeros(len(x))\n",
    "    x_space = np.zeros_like(x)\n",
    "    for i, x_target in enumerate(x):\n",
    "        u, x_span, y_span, ind_span = get_span(x, y, x_target, k)\n",
    "        w = kernel(u, **kernel_params)\n",
    "        if weights is not None:  \n",
    "            w *= weights[ind_span]\n",
    "        W = np.diag(w)\n",
    "        p = solve(x_span, y_span, W, deg = deg)\n",
    "        y_pred[i] = np.polyval(p, x_target)\n",
    "        x_space[i] = x_target\n",
    "    return y_pred, x_space\n",
    "\n",
    "\n",
    "def loess_tricub(x, y, k, deg, weights=None):\n",
    "    return loess(x=x, y=y, kernel=tricub_kernel, k=k, deg=deg, weights=weights)"
   ]
  },
  {
   "cell_type": "code",
   "execution_count": null,
   "metadata": {
    "collapsed": false,
    "jupyter": {
     "outputs_hidden": false
    }
   },
   "outputs": [],
   "source": [
    "from random import randrange\n",
    "\n",
    "x = np.linspace(1, 100, 100)\n",
    "y = np.array([0.6 * el + 1 * np.sin(el*2) + randrange(10) for el in x])"
   ]
  },
  {
   "cell_type": "code",
   "execution_count": null,
   "metadata": {
    "collapsed": false,
    "jupyter": {
     "outputs_hidden": false
    }
   },
   "outputs": [],
   "source": [
    "for i, el in enumerate(y[7:]):\n",
    "    el += 15 * y[i - 7]\n",
    "for i, el in enumerate(y[3:]):\n",
    "    el += 5 * y[i - 3]\n",
    "for i, el in enumerate(y[30:]):\n",
    "    el -= 15 * y[i - 30]\n",
    "for i, el in enumerate(y[10:]):\n",
    "    el += 10 * y[i - 10]"
   ]
  },
  {
   "cell_type": "code",
   "execution_count": null,
   "metadata": {
    "collapsed": false,
    "jupyter": {
     "outputs_hidden": false
    }
   },
   "outputs": [],
   "source": [
    "y_pred, x_pred = loess_tricub(x, y, k=5, deg=1)"
   ]
  },
  {
   "cell_type": "code",
   "execution_count": null,
   "metadata": {
    "collapsed": false,
    "jupyter": {
     "outputs_hidden": false
    }
   },
   "outputs": [],
   "source": [
    "fig = plt.figure()\n",
    "sns.scatterplot(x=x, y=y, color ='skyblue')\n",
    "sns.lineplot(x=x_pred, y=y_pred, color ='lightgreen')\n",
    "print(\"error = \", mean_squared_error(y_true=y, y_pred=y_pred))"
   ]
  },
  {
   "cell_type": "markdown",
   "metadata": {
    "collapsed": false,
    "jupyter": {
     "outputs_hidden": false
    }
   },
   "source": [
    "Используем для лоесса полиномы степени d. Число n задает число соседей для рассчета весов.\n",
    "\n",
    "STL состоит из двух циклов: внутреннеего и внешнего.\n",
    "Во внутреннем трендовая и сезонная компоненты обновляются, эта процедура повторяется $n_{(i)}$ раз.\n",
    "Каждй прогон внешнего цикла состоит из прогона внутреннего и дальнейшего пересчета робастных весов.В первой итерации внешнего цикла все веса равны 1, после чего делается  $n_{(о)}$ таких прогонов.\n",
    "\n",
    "Пусть цикл сезонной компоненты равен $n_{(p)}$. Нам необходимо получить все срезы временного ряда для каждого сезона. Так, например, первый срез для цикла размера 12 для данных по дням будет давать все январские значения.\n",
    "\n",
    "Внутренний цикл:\n",
    "1) Детрендинг: X - T\n",
    "2) Каждый срез сезона сглаживается лоессом с $n_{(s)}$ и d=1.\n",
    "3) Фильтр. Он состоит из последовательного применения MA с параметром  $n_{(p)}$, после его применяется лоесс с $n_{(l)}$ и d=1\n",
    "4) Детрендинг циклической составляющей. Сезонная составляющая на (k+1) шаге равна $ C_v^{k+1} - L_v^{k+1}, v=1,N$\n",
    "5) Вычитание сезонности: X - C\n",
    "6) Сглаживание тренда. После вычитания сезонности ряд сглаживается лоессом с $n_{(t)}$ и d=1. На k+1 итерации $T^{k+1}$ задается этими значениями.\n",
    "\n",
    "При этом $T_v^0 = 0$\n",
    "\n",
    "Внешний цикл. Рассмотрим остатки: R = X - T - C. Проведем переввешивание семплов на основе остатков в соответствии с робастным лоессом.\n",
    "\n"
   ]
  },
  {
   "cell_type": "markdown",
   "metadata": {
    "collapsed": false,
    "jupyter": {
     "outputs_hidden": false
    }
   },
   "source": [
    "Итого, у STL 6 параметров:\n",
    "1) $n_p$ - число наблюдений в каждом сезонном срезе\n",
    "2) $n_i$ - число проходов через внутренний цикл (чаще всего 1 или 2)\n",
    "3) $n_o$ - число проходов через внешний цикл (0 - если остатки гауссовы)\n",
    "1) $n_l$ - параметр фильтра: наименьшее нечетное число, большее или равное $n_p$\n",
    "2) $n_t$ - параметр сглаживания для тренда ($[1.5 * n_p / (1 - 1.5/n_s)]_{odd} $\n",
    "3) $n_s$ - параметр сглаживания для сезонности (больше или равно 7, но вообще зависит от примера)"
   ]
  },
  {
   "cell_type": "markdown",
   "metadata": {},
   "source": [
    "Для начала реализуем упрощенную версию, без внешнего цикла. "
   ]
  },
  {
   "cell_type": "code",
   "execution_count": null,
   "metadata": {
    "collapsed": false,
    "jupyter": {
     "outputs_hidden": false
    }
   },
   "outputs": [],
   "source": [
    "\n",
    "def decompose(x, y, period: int = 365, loess_frac: float = 0.05, inner_iter = 2):\n",
    "    \"\"\"\n",
    "    Returns:\n",
    "        `statsmodels.tsa.seasonal.DecomposeResult`: An object with DataFrame attributes for the\n",
    "            seasonal, trend, and residual components, as well as the average seasonal cycle.\n",
    "\n",
    "    \"\"\"\n",
    "    trend_part = np.zeros_like(y)\n",
    "    seasonal_part = np.zeros_like(y)\n",
    "    residuals = np.zeros_like(y)\n",
    "\n",
    "    # period must not be larger than size of series to avoid introducing NaNs\n",
    "    period = min(period, len(y))\n",
    "    cyclic_collection = np.zeros_like(y)\n",
    "    for _ in range(inner_iter):\n",
    "        # Step 1. Detrending\n",
    "        detrended = y - trend_part\n",
    "        # Step 2. Cyclic collection smoothing\n",
    "        n_s = max(int(loess_frac * len(y) // period), 7) # 7 is from original paper\n",
    "        for start in range(0, period):  \n",
    "            cycle = detrended[start::period]\n",
    "            smoothed_cycle, x_space = loess_tricub(\n",
    "                x = np.linspace(0., len(cycle)-1, (len(cycle)), dtype=float), \n",
    "                y = cycle,\n",
    "                k = n_s,\n",
    "                deg = 1 \n",
    "            )\n",
    "            cyclic_collection[start::period] = smoothed_cycle\n",
    "        # Step 3. Low-pass filter\n",
    "        n_l = period if period % 2 else period + 1  # from article\n",
    "        low_pass = uniform_filter1d(uniform_filter1d(cyclic_collection, size=period), size=period)\n",
    "        low_pass = uniform_filter1d(low_pass, size=3)\n",
    "        smoothed_seasons, x_space = loess_tricub(\n",
    "                x = np.linspace(0., len(low_pass)-1, (len(low_pass)), dtype=float),\n",
    "                y = low_pass,\n",
    "                k = n_l,\n",
    "                deg = 1\n",
    "            )\n",
    "        # Step 4. Seasonal component\n",
    "        seasonal_part = cyclic_collection - smoothed_seasons\n",
    "        # Step 5. Deseasonong\n",
    "        deseasoned = y - seasonal_part\n",
    "\n",
    "        # Step 6. Trend\n",
    "        n_t = int(1.5 * period / (1 - 1.5 / n_s)) # formula is from article\n",
    "        trend_part, x_space = loess_tricub(\n",
    "                        y = deseasoned,\n",
    "                        x = np.linspace(0., len(deseasoned)-1, (len(deseasoned)), dtype=float),\n",
    "                        k = n_t,\n",
    "                        deg = 1\n",
    "                    )\n",
    "\n",
    "        residuals = y - trend_part - seasonal_part\n",
    "\n",
    "    # convert the arrays back to appropriate dataframes, stuff them back into\n",
    "    #  the statsmodel object\n",
    "    results = list([seasonal_part, trend_part, residuals, y])\n",
    "    dr = DecomposeResult(seasonal=results[0],\n",
    "                         trend=results[1],\n",
    "                         resid=results[2],\n",
    "                         observed=results[3])\n",
    "    return dr"
   ]
  },
  {
   "cell_type": "code",
   "execution_count": null,
   "metadata": {
    "collapsed": false,
    "jupyter": {
     "outputs_hidden": false
    }
   },
   "outputs": [],
   "source": [
    "Проверим результат. Для более объективной оценки построим график и для разложения из statsmodels. "
   ]
  },
  {
   "cell_type": "code",
   "execution_count": null,
   "metadata": {
    "collapsed": false,
    "jupyter": {
     "outputs_hidden": false
    }
   },
   "outputs": [],
   "source": [
    "dec = decompose(x, y, 10, 0.1, inner_iter=5)\n",
    "fig = dec.plot()\n",
    "stl = STL(pd.DataFrame(y, index=x-1), period=10, robust=False) # fix to get parallel representation\n",
    "res_robust_lib = stl.fit()\n",
    "add_stl_plot(fig, res_robust_lib, [\"Our implementation\", \"Statsmodels\"])"
   ]
  },
  {
   "cell_type": "markdown",
   "metadata": {},
   "source": [
    "Как видно, результаты достаточно близки. Наша реализация довольно наивна, так что детали решений могут отличаться."
   ]
  },
  {
   "cell_type": "markdown",
   "metadata": {},
   "source": [
    "Теперь реализуем метод с учетом внешнего цикла - robust STL. Мы уже учли возможность в LOESS добавить вес семплов в рассчет расстояний. Поэтому остается только реализовать внешний цикл и немного адаптировать внутренний. "
   ]
  },
  {
   "cell_type": "code",
   "execution_count": null,
   "metadata": {
    "collapsed": false,
    "jupyter": {
     "outputs_hidden": false
    }
   },
   "outputs": [],
   "source": [
    "def stl_inner_loop(x, y, period: int = 365, loess_frac: float = 0.05, inner_iter = 2, weights = None):\n",
    "    trend_part = np.zeros_like(y)\n",
    "    seasonal_part = np.zeros_like(y)\n",
    "    residuals = np.zeros_like(y)\n",
    "    \n",
    "    # period must not be larger than size of series to avoid introducing NaNs\n",
    "    period = min(period, len(y))\n",
    "    cyclic_collection = np.zeros_like(y)\n",
    "    \n",
    "    for _ in range(inner_iter):\n",
    "        # Step 1. Detrending\n",
    "        detrended = y - trend_part\n",
    "        # Step 2. Cyclic collection smoothing\n",
    "        \n",
    "        n_s = max(int(loess_frac * len(y) // period), 7)  # 7 is from original paper\n",
    "        for start in range(0, period):  \n",
    "            cycle = detrended[start::period]\n",
    "            cycle_weights = weights[start::period] if weights is not None else None\n",
    "            smoothed_cycle, x_space = loess_tricub(\n",
    "                x = np.linspace(0., len(cycle)-1, (len(cycle)), dtype=float), \n",
    "                y = cycle,\n",
    "                k = n_s,\n",
    "                deg=1,\n",
    "                weights=cycle_weights\n",
    "            )\n",
    "            cyclic_collection[start::period] = smoothed_cycle\n",
    "            \n",
    "        # Step 3. Low-pass filter\n",
    "        n_l = period if period % 2 else period + 1  # from article\n",
    "        low_pass = uniform_filter1d(uniform_filter1d(cyclic_collection, size=period), size=period)\n",
    "        low_pass = uniform_filter1d(low_pass, size=3)\n",
    "        smoothed_seasons, x_space = loess_tricub(\n",
    "                x = np.linspace(0., len(low_pass)-1, (len(low_pass)), dtype=float),\n",
    "                y = low_pass,\n",
    "                k = n_l,\n",
    "                deg=1\n",
    "            )\n",
    "        # Step 4. Seasonal component\n",
    "        seasonal_part = cyclic_collection - smoothed_seasons\n",
    "        # Step 5. Deseasonong\n",
    "        deseasoned = y - seasonal_part\n",
    "\n",
    "        # Step 6. Trend\n",
    "        n_t = int(1.5 * period / (1 - 1.5 / n_s)) # formula is from article\n",
    "        trend_part, x_space = loess_tricub(\n",
    "                        y = deseasoned,\n",
    "                        x = np.linspace(0., len(deseasoned)-1, (len(deseasoned)), dtype=float),\n",
    "                        k=n_t,\n",
    "                        deg=1,\n",
    "                        weights=weights\n",
    "                    )\n",
    "\n",
    "        residuals = y - trend_part - seasonal_part\n",
    "    return trend_part, seasonal_part, residuals"
   ]
  },
  {
   "cell_type": "markdown",
   "metadata": {},
   "source": [
    "Для того, чтобы сделать метод более робастным, используем робастный LOESS.\n",
    "\n",
    "Определим остатки:\n",
    "\\begin{equation}\n",
    "r_i = y_i - f (x_i)\n",
    "\\end{equation}\n",
    "\n",
    "Тогда мы можем применить биквадратное ядро для перевзвешивания.\n",
    "\\begin{equation}\n",
    "    B(u, b) =\n",
    "    \\begin{cases}\n",
    "      (1 - u^2)^2, & 0 \\leq u < 1 \\\\\n",
    "      0, & \\text{otherwise}\n",
    "    \\end{cases}\n",
    "\\end{equation}\n",
    "Пусть $m(r) = median(|r|)$. Дополнительные веса тогда:\n",
    "\\begin{equation}\n",
    "\\gamma_i = B(r_i / 6m)\n",
    "\\end{equation}\n",
    "\n",
    "Финальные веса принимают вид $\\tilde {w_i } = \\gamma_i * w_i $.\n",
    "\n"
   ]
  },
  {
   "cell_type": "code",
   "execution_count": null,
   "metadata": {},
   "outputs": [],
   "source": [
    "def bicubic(u): \n",
    "    mask = np.logical_and(u > 0, u < 1).astype(float)\n",
    "    return (1 - u**2)**2 * mask\n",
    "    \n",
    "def robust_stl(x, y, period: int = 365, loess_frac: float = 0.05, inner_iter: int = 2, outer_iter: int = 2):\n",
    "    weights = np.ones_like(y)\n",
    "    for _ in range(outer_iter):\n",
    "        trend_part, seasonal_part, residuals = stl_inner_loop(\n",
    "            x=x, y=y, weights=weights, period=period, loess_frac=loess_frac, inner_iter=inner_iter\n",
    "        )\n",
    "        h = 6 * np.median(np.abs(residuals))\n",
    "        weights = bicubic(residuals / h)\n",
    "    results = list([seasonal_part, trend_part, residuals, y])\n",
    "    dr = DecomposeResult(seasonal=results[0],\n",
    "                         trend=results[1],\n",
    "                         resid=results[2],\n",
    "                         observed=results[3])\n",
    "    return dr"
   ]
  },
  {
   "cell_type": "code",
   "execution_count": null,
   "metadata": {},
   "outputs": [],
   "source": [
    "#dec_non_robust = decompose(x, y, 10, 0.1)\n",
    "#fig = dec_non_robust.plot()\n",
    "dec = robust_stl(x, y, 10, 0.1, inner_iter = 5, outer_iter = 2)\n",
    "add_stl_plot(fig, dec, [\"Non_robust\", \"Robust\"])"
   ]
  },
  {
   "cell_type": "markdown",
   "metadata": {},
   "source": [
    "Проверим наши методы на реальных данных."
   ]
  },
  {
   "cell_type": "code",
   "execution_count": null,
   "metadata": {},
   "outputs": [],
   "source": [
    "elec_equip = ds.load().data.iloc[:, 0]\n",
    "x = np.linspace(0., len(elec_equip)-1, len(elec_equip))\n",
    "y = elec_equip.values"
   ]
  },
  {
   "cell_type": "code",
   "execution_count": null,
   "metadata": {},
   "outputs": [],
   "source": [
    "dec_non_robust = decompose(x, y, 10, 0.1)\n",
    "fig = dec_non_robust.plot()\n",
    "dec = robust_stl(x, y, 10, 0.1, inner_iter = 5, outer_iter= 5)\n",
    "dec = robust_stl(x, y, 10, 0.1)\n",
    "add_stl_plot(fig, dec, [\"Non_robust\", \"Robust\"])"
   ]
  },
  {
   "cell_type": "code",
   "execution_count": null,
   "metadata": {},
   "outputs": [],
   "source": [
    "stl = STL(pd.DataFrame(y, index=x-1), period=10, robust=False) # fix to get parallel representation\n",
    "dec_non_robust = stl.fit()\n",
    "fig = dec_non_robust.plot()\n",
    "stl = STL(pd.DataFrame(y, index=x-1), period=10) # fix to get parallel representation\n",
    "res_robust = stl.fit()\n",
    "\n",
    "dec = robust_stl(x, y, 10, 0.1)\n",
    "add_stl_plot(fig, dec, [\"Non_robust\", \"Robust\"])"
   ]
  },
  {
   "cell_type": "code",
   "execution_count": null,
   "metadata": {},
   "outputs": [],
   "source": []
  },
  {
   "cell_type": "code",
   "execution_count": null,
   "metadata": {},
   "outputs": [],
   "source": []
  }
 ],
 "metadata": {
  "kernelspec": {
   "display_name": "Python 3 (ipykernel)",
   "language": "python",
   "name": "python3"
  },
  "language_info": {
   "codemirror_mode": {
    "name": "ipython",
    "version": 3
   },
   "file_extension": ".py",
   "mimetype": "text/x-python",
   "name": "python",
   "nbconvert_exporter": "python",
   "pygments_lexer": "ipython3",
   "version": "3.10.13"
  }
 },
 "nbformat": 4,
 "nbformat_minor": 4
}
