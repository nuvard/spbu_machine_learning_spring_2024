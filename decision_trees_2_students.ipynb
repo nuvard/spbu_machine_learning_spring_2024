{
 "cells": [
  {
   "cell_type": "code",
   "execution_count": null,
   "metadata": {
    "collapsed": true
   },
   "outputs": [],
   "source": []
  },
  {
   "cell_type": "code",
   "execution_count": null,
   "outputs": [],
   "source": [
    "import random\n",
    "\n",
    "import matplotlib\n",
    "import matplotlib.pyplot as plt\n",
    "import numpy as np\n",
    "import pandas\n",
    "import pandas as pd\n",
    "import seaborn as sns\n",
    "import yaml\n",
    "from matplotlib.colors import ListedColormap\n",
    "from sklearn import metrics\n",
    "from sklearn.datasets import make_circles, make_blobs, make_classification, make_moons\n",
    "from sklearn.discriminant_analysis import QuadraticDiscriminantAnalysis\n",
    "from sklearn.inspection import DecisionBoundaryDisplay\n",
    "from sklearn.linear_model import LogisticRegression\n",
    "from sklearn.metrics import (\n",
    "    accuracy_score,\n",
    "    classification_report,\n",
    "    confusion_matrix,\n",
    "    precision_score,\n",
    "    recall_score,\n",
    "    roc_auc_score,\n",
    ")\n",
    "from sklearn.model_selection import train_test_split\n",
    "from sklearn.pipeline import make_pipeline\n",
    "from sklearn.preprocessing import StandardScaler\n",
    "from sklearn.tree import DecisionTreeClassifier, plot_tree\n",
    "\n",
    "\n",
    "SEED = 314159\n",
    "TRAIN_TEST_SPLIT = 0.80\n",
    "\n",
    "data_path = \"D:\\data\\machine_learning\""
   ],
   "metadata": {
    "collapsed": false
   }
  },
  {
   "cell_type": "markdown",
   "source": [
    "# Решающие деревья\n",
    "\n",
    "Решающее дерево предсказывает значение целевой переменной с помощью применения последовательности простых правил. И хотя обобщающая способность решающих деревьев невелика, его все равно часто используют из-за легкой интерпретации. К тому же, решающие деревья успешно объединяются в ансамбли, что решает часть проблем.\n",
    "\n",
    "В целом, решающие деревья (в основном как части ансамблей) довольно успешно используются. Вопрос: какие еще есть плюсы у решающих деревьев?\n",
    "\n",
    "Однако решающие деревья также требуют аккуратности. Какая самая простая проблема приходит на ум?\n",
    "Эту и другие сложности рассмотрим в этом ноутбуке.\n"
   ],
   "metadata": {
    "collapsed": false
   }
  },
  {
   "cell_type": "markdown",
   "source": [],
   "metadata": {
    "collapsed": false
   }
  },
  {
   "cell_type": "markdown",
   "source": [
    "Рассмотрим набор данных о качестве вина на основе различных химических показателей. Есть всего 6 значений качества, поэтому задачу проще всего решать классификацией."
   ],
   "metadata": {
    "collapsed": false
   }
  },
  {
   "cell_type": "code",
   "execution_count": null,
   "outputs": [],
   "source": [
    "df = pd.read_csv(data_path+'/'+\"winequality-red.csv\")"
   ],
   "metadata": {
    "collapsed": false
   }
  },
  {
   "cell_type": "code",
   "execution_count": null,
   "outputs": [],
   "source": [
    "df.describe()"
   ],
   "metadata": {
    "collapsed": false
   }
  },
  {
   "cell_type": "markdown",
   "source": [
    "# Разделяющие поверхности\n",
    "\n",
    "Рассмотрим то, как дерево решений строит разделяющие поверхности. Для начала снова получим обучающие и тестовые данные."
   ],
   "metadata": {
    "collapsed": false
   }
  },
  {
   "cell_type": "code",
   "execution_count": null,
   "outputs": [],
   "source": [
    "df_major = df[df[\"quality\"].isin([5,6])]\n",
    "print(\"Length of filtered data is\", len(df_major))\n",
    "X = df_major.drop('quality', axis=1)\n",
    "y = df_major['quality']\n",
    "X_train, X_test, y_train, y_test = train_test_split(X, y, test_size=0.2, random_state=SEED)"
   ],
   "metadata": {
    "collapsed": false
   }
  },
  {
   "cell_type": "markdown",
   "source": [
    "Воспользуемся встроенным функционалом scikit-learn. К сожалению, он позволяет строить только модели для двух входных переменных, поэтому выберем пару переменных поинформативнее."
   ],
   "metadata": {
    "collapsed": false
   }
  },
  {
   "cell_type": "code",
   "execution_count": null,
   "outputs": [],
   "source": [
    "# Choosing the first 2 columns for the plot\n",
    "features = ['volatile acidity', 'alcohol' ]\n",
    "X_train_cols = X_train.loc[:, features ]\n",
    "# Creating and fitting the tree classifier\n",
    "classifier = # your code\n"
   ],
   "metadata": {
    "collapsed": false
   }
  },
  {
   "cell_type": "code",
   "execution_count": null,
   "outputs": [],
   "source": [
    "def plot_boundary(\n",
    "        classifier, data: pd.DataFrame, features: list[str], y: pd.DataFrame | pd.Series | None = None\n",
    ") -> None:\n",
    "    # Plotting the tree boundaries\n",
    "    disp = DecisionBoundaryDisplay.from_estimator(classifier,\n",
    "                                                  data.loc[:, features],\n",
    "                                                  response_method=\"predict_proba\",\n",
    "                                                  xlabel=features[0], ylabel=features[1],\n",
    "                                                  alpha=0.5,\n",
    "                                                  cmap=plt.cm.coolwarm,\n",
    "                                                  grid_resolution=500)\n",
    "\n",
    "    # Plotting the data points\n",
    "    # your code. You can use disp.ax_ to access the axis\n",
    "\n",
    "    plt.title(f\"Decision surface for {classifier.__class__.__name__} trained on {features[0]} and {features[1]}\")\n",
    "    plt.show()"
   ],
   "metadata": {
    "collapsed": false
   }
  },
  {
   "cell_type": "code",
   "execution_count": null,
   "outputs": [],
   "source": [
    "# plot boundary for train data"
   ],
   "metadata": {
    "collapsed": false
   }
  },
  {
   "cell_type": "markdown",
   "source": [
    "Отличается ли поверхность для тестового множества?"
   ],
   "metadata": {
    "collapsed": false
   }
  },
  {
   "cell_type": "code",
   "execution_count": null,
   "outputs": [],
   "source": [
    "X_test_cols = X_test.loc[:, features ]\n",
    "#  plot boundary for test data"
   ],
   "metadata": {
    "collapsed": false
   }
  },
  {
   "cell_type": "markdown",
   "source": [
    "На таком графике может быть хорошо заметно влияние даже одного примера на принятие решения."
   ],
   "metadata": {
    "collapsed": false
   }
  },
  {
   "cell_type": "code",
   "execution_count": null,
   "outputs": [],
   "source": [
    "# Choosing the first 2 columns for the plot\n",
    "features = ['volatile acidity', 'alcohol' ]\n",
    "X_train_cols = X_train.copy()[:][features]\n",
    "# change one sample\n",
    "# Creating and fitting the tree classifier\n",
    "classifier = DecisionTreeClassifier(max_depth=6,\n",
    "                                    random_state=SEED).fit(X_train_cols, y_train)\n",
    "\n",
    "plot_boundary(classifier, X_train_cols, features, y_train)"
   ],
   "metadata": {
    "collapsed": false
   }
  },
  {
   "cell_type": "markdown",
   "source": [
    "Решающие деревья часто совмещают с PCA. Это мешает интерпретируемости, но часто достаточно полезно."
   ],
   "metadata": {
    "collapsed": false
   }
  },
  {
   "cell_type": "code",
   "execution_count": null,
   "outputs": [],
   "source": [
    "from sklearn.decomposition import PCA\n",
    "pca =  # your code\n",
    "X_train_pca = # your code\n",
    "X_test_pca = # your code"
   ],
   "metadata": {
    "collapsed": false
   }
  },
  {
   "cell_type": "code",
   "execution_count": null,
   "outputs": [],
   "source": [
    "features = [\"x1\", \"x2\"]\n",
    "classifier = DecisionTreeClassifier(max_depth=6,\n",
    "                                    random_state=SEED).fit(X_train_pca, y_train)\n",
    "\n",
    "plot_boundary(classifier, X_train_pca, features, y_train)"
   ],
   "metadata": {
    "collapsed": false
   }
  },
  {
   "cell_type": "code",
   "execution_count": null,
   "outputs": [],
   "source": [
    "# your code for test dataset"
   ],
   "metadata": {
    "collapsed": false
   }
  },
  {
   "cell_type": "markdown",
   "source": [
    "Как видно, границы принятия решений довольно \"хаотичны\", что говорит о явном переобучении. Давайте оценим, как будут влиять на них различные гиперпараметры.\n",
    "\n",
    "Для начала рассмотрим глубину дерева."
   ],
   "metadata": {
    "collapsed": false
   }
  },
  {
   "cell_type": "code",
   "execution_count": null,
   "outputs": [],
   "source": [
    "# your code - change max depth of the tree and plot the boundaries"
   ],
   "metadata": {
    "collapsed": false
   }
  },
  {
   "cell_type": "code",
   "execution_count": null,
   "outputs": [],
   "source": [
    "# your code - change max depth of the tree and plot the boundaries"
   ],
   "metadata": {
    "collapsed": false
   }
  },
  {
   "cell_type": "code",
   "execution_count": null,
   "outputs": [],
   "source": [
    "# your code - change other parameters of the tree and plot the boundaries"
   ],
   "metadata": {
    "collapsed": false
   }
  },
  {
   "cell_type": "markdown",
   "source": [
    "Каким будет оптимальный набор гиперпараметров?"
   ],
   "metadata": {
    "collapsed": false
   }
  },
  {
   "cell_type": "code",
   "execution_count": null,
   "outputs": [],
   "source": [
    "from sklearn.model_selection import GridSearchCV\n",
    "params = {\n",
    "    # set params space\n",
    "}"
   ],
   "metadata": {
    "collapsed": false
   }
  },
  {
   "cell_type": "code",
   "execution_count": null,
   "outputs": [],
   "source": [
    "classifier = DecisionTreeClassifier(max_depth=4,\n",
    "                                    random_state=SEED)\n",
    "grid_search = GridSearchCV(estimator=classifier,\n",
    "                           param_grid=params,\n",
    "                           cv=4, n_jobs=-1, verbose=1, scoring = \"accuracy\").fit(X_train_pca, y_train)"
   ],
   "metadata": {
    "collapsed": false
   }
  },
  {
   "cell_type": "code",
   "execution_count": null,
   "outputs": [],
   "source": [
    "# print best parameters"
   ],
   "metadata": {
    "collapsed": false
   }
  },
  {
   "cell_type": "code",
   "execution_count": null,
   "outputs": [],
   "source": [
    "# plot boundaries for best parameters"
   ],
   "metadata": {
    "collapsed": false
   }
  },
  {
   "cell_type": "markdown",
   "source": [],
   "metadata": {
    "collapsed": false
   }
  },
  {
   "cell_type": "code",
   "execution_count": null,
   "outputs": [],
   "source": [
    "# run grid search for previosly fixed depth. Can we achieve similar results using that setting?"
   ],
   "metadata": {
    "collapsed": false
   }
  },
  {
   "cell_type": "code",
   "execution_count": null,
   "outputs": [],
   "source": [
    "# plot the decision boundary"
   ],
   "metadata": {
    "collapsed": false
   }
  },
  {
   "cell_type": "markdown",
   "source": [
    "Другая опция, как можно автоматизировать подбор гиперпараметров - Randomized Search. В отличие от Grid Search, этот метод выбирает параметры не по сетке, а случайно. Причем показано, что при равном бютжете на оптимизацию гиперпараметров он работает даже лучше, чем Grid Search. Посмотрим, будет ли выбор разный."
   ],
   "metadata": {
    "collapsed": false
   }
  },
  {
   "cell_type": "code",
   "execution_count": null,
   "outputs": [],
   "source": [
    "from sklearn.model_selection import RandomizedSearchCV\n",
    "# run randomized search cv"
   ],
   "metadata": {
    "collapsed": false
   }
  },
  {
   "cell_type": "code",
   "execution_count": null,
   "outputs": [],
   "source": [
    "# train classifier with new parameters"
   ],
   "metadata": {
    "collapsed": false
   }
  },
  {
   "cell_type": "markdown",
   "source": [],
   "metadata": {
    "collapsed": false
   }
  },
  {
   "cell_type": "markdown",
   "source": [
    "Рассмотрим и важность выбора сплиттера. Так, DecisionTree позволяет выбирать между random и best. Random отличается тем, что вместо проверки всех возможных порогов разделения по признаку проверяется один случайный порог, взятый из равномерного распределенния между минимумом и максимумом признака."
   ],
   "metadata": {
    "collapsed": false
   }
  },
  {
   "cell_type": "code",
   "execution_count": null,
   "outputs": [],
   "source": [
    "X_gen, y_gen = make_classification(n_samples=500, n_features=2000, n_informative=600,\n",
    "                           n_repeated=0, n_classes=2,\n",
    "                           n_clusters_per_class=1,\n",
    "                           class_sep=0.9, random_state=0)\n",
    "X_train, X_test, y_train, y_test = train_test_split(X_gen, y_gen, test_size=0.2, random_state=SEED)"
   ],
   "metadata": {
    "collapsed": false
   }
  },
  {
   "cell_type": "code",
   "execution_count": null,
   "outputs": [],
   "source": [
    "classifier = DecisionTreeClassifier(min_samples_leaf=10,\n",
    "                                    random_state=SEED).fit(X_train, y_train)\n",
    "print(\"Importances\", np.sort(classifier.feature_importances_))\n",
    "print(\"Depth\", classifier.get_depth())\n",
    "print(\"Num leaves\", classifier.get_n_leaves())\n",
    "print(\"Train score is: \", classifier.score(X_train, y_train))\n",
    "print(\"Test score is: \", classifier.score(X_test, y_test))"
   ],
   "metadata": {
    "collapsed": false
   }
  },
  {
   "cell_type": "code",
   "execution_count": null,
   "outputs": [],
   "source": [
    "# train classifier and get the numbers for other split"
   ],
   "metadata": {
    "collapsed": false
   }
  }
 ],
 "metadata": {
  "kernelspec": {
   "display_name": "Python 3",
   "language": "python",
   "name": "python3"
  },
  "language_info": {
   "codemirror_mode": {
    "name": "ipython",
    "version": 2
   },
   "file_extension": ".py",
   "mimetype": "text/x-python",
   "name": "python",
   "nbconvert_exporter": "python",
   "pygments_lexer": "ipython2",
   "version": "2.7.6"
  }
 },
 "nbformat": 4,
 "nbformat_minor": 0
}
