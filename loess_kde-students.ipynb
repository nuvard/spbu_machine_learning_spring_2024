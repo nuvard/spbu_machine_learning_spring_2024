{
 "nbformat": 4,
 "nbformat_minor": 0,
 "metadata": {
  "colab": {
   "provenance": []
  },
  "kernelspec": {
   "name": "python3",
   "display_name": "Python 3"
  },
  "language_info": {
   "name": "python"
  }
 },
 "cells": [
  {
   "cell_type": "code",
   "source": [
    "import matplotlib.pyplot as plt\n",
    "import pandas as pd\n",
    "import numpy as np\n",
    "from math import ceil\n",
    "from scipy import linalg\n",
    "from IPython.display import Image\n",
    "from IPython.display import display\n",
    "plt.style.use('seaborn-white')\n",
    "\n",
    "from math import ceil\n",
    "import numpy as np\n",
    "from scipy import linalg"
   ],
   "metadata": {
    "colab": {
     "base_uri": "https://localhost:8080/"
    },
    "id": "5AztZTFWlbn-",
    "outputId": "a1017b3c-4fe1-4cca-cc6d-712428948787"
   },
   "execution_count": null,
   "outputs": []
  },
  {
   "cell_type": "markdown",
   "source": [
    "# KDE"
   ],
   "metadata": {
    "id": "B5PuOI3tnwYT"
   }
  },
  {
   "cell_type": "code",
   "source": [
    "%matplotlib inline\n",
    "import matplotlib.pyplot as plt\n",
    "import seaborn as sns; sns.set()\n",
    "import numpy as np"
   ],
   "metadata": {
    "id": "Acb5QvGNoNQ2"
   },
   "execution_count": null,
   "outputs": []
  },
  {
   "cell_type": "code",
   "source": [
    "def make_data(N, f=0.3, rseed=1):\n",
    "    rand = np.random.RandomState(rseed)\n",
    "    x = rand.randn(N)\n",
    "    x[int(f * N):] += 5\n",
    "    return x\n",
    "\n",
    "x = make_data(1000)"
   ],
   "metadata": {
    "id": "EXSYcsBloO1i"
   },
   "execution_count": null,
   "outputs": []
  },
  {
   "cell_type": "code",
   "source": [
    "hist = # Create histogram without kde line"
   ],
   "metadata": {
    "colab": {
     "base_uri": "https://localhost:8080/",
     "height": 434
    },
    "id": "NjOXan3eoQTX",
    "outputId": "098d47e9-c35f-4d2f-e493-3c72aecbc10a"
   },
   "execution_count": null,
   "outputs": []
  },
  {
   "cell_type": "markdown",
   "source": [
    "Посмотрим на гистограммы с заданными границами бинов. Это можно сделать, создав массив со значениями [$bin_{0_{start}}$, $bin_{0_{end}}$, $bin_{1_{start}}$, $bin_{1_{end}}$...]"
   ],
   "metadata": {
    "id": "4TJ025QdqrG8"
   }
  },
  {
   "cell_type": "code",
   "source": [
    "x = make_data(20)\n",
    "bins = np.linspace(-5, 10, 10)"
   ],
   "metadata": {
    "id": "_jVG63iUpOYM"
   },
   "execution_count": null,
   "outputs": []
  },
  {
   "cell_type": "code",
   "source": [
    "bins"
   ],
   "metadata": {
    "colab": {
     "base_uri": "https://localhost:8080/"
    },
    "id": "EtJMuatTql2M",
    "outputId": "0712acf4-e596-4b34-b70c-8196af40e85e"
   },
   "execution_count": null,
   "outputs": []
  },
  {
   "cell_type": "code",
   "source": [
    "fig, ax = plt.subplots(1, 2, figsize=(12, 4),\n",
    "                       sharex=True, sharey=True,\n",
    "                       subplot_kw={'xlim':(-4, 9),\n",
    "                                   'ylim':(-0.02, 0.3)})\n",
    "fig.subplots_adjust(wspace=0.05)\n",
    "\n",
    "for i, offset in enumerate([0.0, 0.6]):\n",
    "    # create histograms using specific bin ranges\n",
    "    # make histplot with specific bins=... using offset\n",
    "    ax[i].plot(x, np.full_like(x, -0.01), '|k',\n",
    "               markeredgewidth=1)"
   ],
   "metadata": {
    "colab": {
     "base_uri": "https://localhost:8080/",
     "height": 379
    },
    "id": "hTUDbnHhpPIq",
    "outputId": "fc700964-9b7c-4970-d060-ac40457805c7"
   },
   "execution_count": null,
   "outputs": []
  },
  {
   "cell_type": "markdown",
   "source": [
    "Слева гистограмма ясно показывает, что это бимодальное распределение. Справа мы видим унимодальное распределение с длинным хвостом. Не зная о манипуляции с бинами, вы, вероятно, не догадались бы, что эти две гистограммы были построены на основе одних и тех же данных: учитывая это, как можно доверять интуиции, которую дают гистограммы? И как мы можем это улучшить?\n",
    "\n",
    "Рассмотрим гистограмму как набор кубиков, где каждый кубик, представляющий значение в заданном ренже, ставится в стек поверх тех, которые уже туда попали.  "
   ],
   "metadata": {
    "id": "xhJETY7grY6r"
   }
  },
  {
   "cell_type": "code",
   "source": [
    "fig, ax = plt.subplots()\n",
    "bins = np.arange(-3, 8)\n",
    "ax.plot(x, np.full_like(x, -0.1), '|k',\n",
    "        markeredgewidth=1)\n",
    "for count, edge in zip(*np.histogram(x, bins)):\n",
    "    for i in range(count):\n",
    "        # make a brick graph. It can be done by using add_patch(), plt.Rectangle()\n",
    "ax.set_xlim(-4, 8)\n",
    "ax.set_ylim(-0.2, 8)"
   ],
   "metadata": {
    "colab": {
     "base_uri": "https://localhost:8080/",
     "height": 457
    },
    "id": "aVZHJILWrnur",
    "outputId": "66ef0e9e-437d-4f34-d78c-d616d1333d44"
   },
   "execution_count": null,
   "outputs": []
  },
  {
   "cell_type": "markdown",
   "source": [
    "Проблема с нашими двумя гистограммами связана с тем, что высота стека часто отражает не фактическую плотность соседних точек, а то, как бины выравниваются с данными. Это несовпадение между значениями и соответствующими блоками является потенциальной причиной плохих результатов интерпретации гистограммы, наблюдаемых здесь. Но что, если вместо того, чтобы складывать блоки, выровненные по ячейкам, мы должны были складывать блоки, выровненные по точкам, которые они представляют? Если мы это сделаем, блоки не будут выровнены, но мы сможем сложить их вклады в каждом месте вдоль оси X, чтобы найти результат. Давайте попробуем это:"
   ],
   "metadata": {
    "id": "CGFl-HttsG3P"
   }
  },
  {
   "cell_type": "markdown",
   "source": [
    "_Tip:_ Чтобы получить красивую плотность на графике, удобно использовать\n",
    "`plt.fill_between(x, density, alpha=0.5)`. Эта функция заполняет полигонами области между `y_min` (равен 0 по умолчанию) и `y_max` (density), горизонтальные координаты задаются x."
   ],
   "metadata": {
    "id": "GkliesDHuQ1l"
   }
  },
  {
   "cell_type": "code",
   "source": [
    "x_d = np.linspace(-4, 8, 2000)\n",
    "density = # find density of elements\n",
    "\n",
    "# plot results"
   ],
   "metadata": {
    "colab": {
     "base_uri": "https://localhost:8080/",
     "height": 440
    },
    "id": "IDxzA0gnsGEL",
    "outputId": "20c6acb0-7e07-41c2-d074-ab6935bd4822"
   },
   "execution_count": null,
   "outputs": []
  },
  {
   "cell_type": "markdown",
   "source": [
    "Результат гораздо более точно отражает реальные характеристики данных, чем стандартная гистограмма. Однако, чтобы получить более полную информацию о распределении, мы могли бы сгладить неровные края. Например, мы могли бы заменить блоки в каждом месте сглаживающей функцией, например, функцией Гаусса. Давайте использовать стандартную нормальную кривую в каждой точке вместо блока.\n"
   ],
   "metadata": {
    "id": "0EwUV7YysrbT"
   }
  },
  {
   "cell_type": "code",
   "source": [
    "from scipy.stats import norm\n",
    "# define horizontal coordinates - using existing boundaries\n",
    "x_d = #"
   ],
   "metadata": {
    "id": "acQyl7RWtgIZ"
   },
   "execution_count": null,
   "outputs": []
  },
  {
   "cell_type": "markdown",
   "source": [
    "Пример:"
   ],
   "metadata": {
    "id": "CoZtFzY5vUCO"
   }
  },
  {
   "cell_type": "code",
   "source": [
    "x_0 = x[0]\n",
    "print(\"X value is: \", x_0)\n",
    "# create normal continuos variable with mean in x\n",
    "# After that get probability density estimation for it\n",
    "# plot .pdf for that value for x_d"
   ],
   "metadata": {
    "colab": {
     "base_uri": "https://localhost:8080/",
     "height": 469
    },
    "id": "9lIGmd5-th5Y",
    "outputId": "ee0afec7-7aac-4175-da02-a3adf952c2a7"
   },
   "execution_count": null,
   "outputs": []
  },
  {
   "cell_type": "code",
   "source": [
    "# final density is the sum of all density estimation for every data point\n",
    "# define new density calculation\n",
    "plt.fill_between(x_d, density , alpha=0.5)\n",
    "plt.plot(x, np.full_like(x, -0.1), '|k', markeredgewidth=1)"
   ],
   "metadata": {
    "colab": {
     "base_uri": "https://localhost:8080/",
     "height": 451
    },
    "id": "ufw8NCxmsruh",
    "outputId": "5acf5da2-b28f-46c8-cc5d-da7a7c1437a2"
   },
   "execution_count": null,
   "outputs": []
  },
  {
   "cell_type": "markdown",
   "source": [
    "Эти два последних графика являются примерами ядерной оценки плотности в одном измерении: первый использует так называемое ядро ​​«цилиндр», а второй использует ядро ​​Гаусса.\n",
    "Параметрами ядерной оценки плотности являются ядро, которое определяет форму распределения, помещенного в каждую точку, и полоса пропускания ядра, которая контролирует размер ядра в каждой точке. На практике существует множество ядер, которые вы можете использовать для оценки плотности ядра: в частности, реализация Scikit-Learn KDE поддерживает одно из шести ядер, о которых вы можете прочитать в [документации](https://http://scikit-learn.org/stable/modules/density.html). Попробуем использовать одно из них"
   ],
   "metadata": {
    "id": "dI7J6XUYvqOO"
   }
  },
  {
   "cell_type": "code",
   "source": [
    "from sklearn.neighbors import KernelDensity\n",
    "\n",
    "# instantiate and fit the KDE model\n",
    "kde = KernelDensity(bandwidth=1.0, kernel='gaussian')\n",
    "kde.fit(x[:, None])\n",
    "\n",
    "# score_samples returns the log of the probability density\n",
    "logprob = kde.score_samples(x_d[:, None])\n",
    "# plot results"
   ],
   "metadata": {
    "colab": {
     "base_uri": "https://localhost:8080/",
     "height": 451
    },
    "id": "XjRq7K5BxcPb",
    "outputId": "57f8cefb-5112-4c12-b7d9-bd20dcf9287b"
   },
   "execution_count": null,
   "outputs": []
  },
  {
   "cell_type": "markdown",
   "source": [
    "Выбор полосы пропускания в KDE чрезвычайно важен для поиска подходящей оценки плотности - она контролирует компромисс между смещением и дисперсией: слишком узкая полоса пропускания приводит к оценке с высокой дисперсией (т. е. -подгонка), где наличие или отсутствие одной точки имеет большое значение. Слишком широкая полоса пропускания приводит к сильному смещению оценки (т. е. недостаточно хорошему подбору), когда данные размываются широким ядром.\n",
    "\n",
    "В статистике существует долгая история методов быстрой оценки наилучшей пропускной способности на основе довольно строгих предположений о данных: если вы посмотрите реализации KDE, например, в пакетах SciPy и StatsModels, вы увидите реализации, основанные на некоторых из этих правил.\n",
    "\n",
    "Такая настройка гиперпараметров часто выполняется эмпирически с помощью перекрестной проверки. Сделаем это."
   ],
   "metadata": {
    "id": "cjb-OXanyr14"
   }
  },
  {
   "cell_type": "code",
   "source": [
    "from sklearn.model_selection import GridSearchCV\n",
    "# Set bandwidths grid as 10^k\n",
    "# Your code\n",
    "# bandwidths = 10 ** np.linspace(-1, 1, 100)\n",
    "# set up grid search: select estimator and parameters grid dictionary (par: space)\n",
    "grid = # your code\n",
    "grid.fit(x[:, None])\n",
    "grid.best_params_"
   ],
   "metadata": {
    "colab": {
     "base_uri": "https://localhost:8080/"
    },
    "id": "ySDh3zs7yWvm",
    "outputId": "740c1466-1ae6-4b53-a3a3-ba73634d78b8"
   },
   "execution_count": null,
   "outputs": []
  },
  {
   "cell_type": "code",
   "source": [
    "from sklearn.neighbors import KernelDensity\n",
    "\n",
    "# instantiate and fit the KDE model with best params\n",
    "\n",
    "\n",
    "# score_samples returns the log of the probability density\n",
    "\n",
    "# make a plot"
   ],
   "metadata": {
    "colab": {
     "base_uri": "https://localhost:8080/",
     "height": 451
    },
    "id": "HtrkEIfYzoIg",
    "outputId": "8342189d-75f8-493b-b429-8c41ededde6c"
   },
   "execution_count": null,
   "outputs": []
  },
  {
   "cell_type": "markdown",
   "source": [
    "KDE есть и в стандартных пакетах. Можете поэкспериментировать, чтобы получить близкую оценку."
   ],
   "metadata": {
    "id": "Pn9iu4K2wSGF"
   }
  },
  {
   "cell_type": "code",
   "source": [
    "import seaborn as sns\n",
    "sns.kdeplot(data=x, )"
   ],
   "metadata": {
    "colab": {
     "base_uri": "https://localhost:8080/",
     "height": 451
    },
    "id": "4QbZEr85nx-N",
    "outputId": "e1aa828b-df0b-4dab-cc6c-3016b233b5e4"
   },
   "execution_count": null,
   "outputs": []
  },
  {
   "cell_type": "code",
   "source": [
    "from sklearn.datasets import fetch_species_distributions\n",
    "\n",
    "data = fetch_species_distributions()\n",
    "\n",
    "# Get matrices/arrays of species IDs and locations\n",
    "latlon = np.vstack([data.train['dd lat'],\n",
    "                    data.train['dd long']]).T\n",
    "species = np.array([d.decode('ascii').startswith('micro')\n",
    "                    for d in data.train['species']], dtype='int')"
   ],
   "metadata": {
    "id": "bsPes6YNv1dL"
   },
   "execution_count": null,
   "outputs": []
  },
  {
   "cell_type": "code",
   "source": [
    "!pip install basemap"
   ],
   "metadata": {
    "colab": {
     "base_uri": "https://localhost:8080/",
     "height": 599
    },
    "id": "PRxpBKYo0Kdb",
    "outputId": "16f78d92-be1f-47cc-afd6-6567a1c03705"
   },
   "execution_count": null,
   "outputs": []
  },
  {
   "cell_type": "code",
   "source": [
    "y_min, y_max = data.train['dd lat'].min(), data.train['dd lat'].max()\n",
    "x_min, x_max = data.train['dd long'].min(), data.train['dd long'].max()"
   ],
   "metadata": {
    "id": "JaimCeZN0lbD"
   },
   "execution_count": null,
   "outputs": []
  },
  {
   "cell_type": "code",
   "source": [
    "def construct_grids(batch):\n",
    "    # x,y coordinates for corner cells\n",
    "    xmin = batch.x_left_lower_corner + batch.grid_size\n",
    "    xmax =\n",
    "    ymin = batch.y_left_lower_corner + batch.grid_size\n",
    "    ymax =\n",
    "\n",
    "    # x coordinates of the grid cells\n",
    "    xgrid =\n",
    "    # y coordinates of the grid cells\n",
    "    ygrid =\n",
    "\n",
    "    return (xgrid, ygrid)"
   ],
   "metadata": {
    "id": "jFKHeExC1VfM"
   },
   "execution_count": null,
   "outputs": []
  },
  {
   "cell_type": "code",
   "source": [
    "from mpl_toolkits.basemap import Basemap\n",
    "\n",
    "# plot coastlines with basemap\n",
    "m = Basemap(projection='cyl', resolution='c',\n",
    "            llcrnrlat=y_min - 1, urcrnrlat=y_max + 1,\n",
    "            llcrnrlon=x_min -1, urcrnrlon=x_max + 1)\n",
    "m.drawmapboundary(fill_color='#DDEEFF')\n",
    "m.fillcontinents(color='#FFEEDD')\n",
    "m.drawcoastlines(color='gray', zorder=2)\n",
    "m.drawcountries(color='gray', zorder=2)\n",
    "\n",
    "# plot locations\n",
    "m.scatter(latlon[:, 1], latlon[:, 0], zorder=3,\n",
    "          c=species, cmap='rainbow', latlon=True);"
   ],
   "metadata": {
    "colab": {
     "base_uri": "https://localhost:8080/",
     "height": 406
    },
    "id": "DCpaIepzz7eU",
    "outputId": "387cf651-6502-4c66-ea23-f5502c846093"
   },
   "execution_count": null,
   "outputs": []
  },
  {
   "cell_type": "markdown",
   "source": [
    "К сожалению, это не дает хорошего представления о плотности вида, поскольку точки ареала вида могут перекрываться.\n",
    "\n",
    "Давайте воспользуемся ядерной оценкой плотности, чтобы показать это распределение более понятным способом: как плавное указание плотности на карте. Поскольку система координат здесь лежит на сферической поверхности, а не на плоской плоскости, мы будем использовать метрику расстояния haversinus, которая будет правильно представлять расстояния на искривленной поверхности.\n"
   ],
   "metadata": {
    "id": "P6LkxTWP2RZp"
   }
  },
  {
   "cell_type": "code",
   "source": [
    "# Set up the data grid for the contour plot\n",
    "\n",
    "xgrid, ygrid = construct_grids(data)\n",
    "\n",
    "X, Y = np.meshgrid(xgrid[::5], ygrid[::5][::-1])\n",
    "\n",
    "land_reference = data.coverages[6][::5, ::5]\n",
    "land_mask = (land_reference > -9999).ravel()\n",
    "xy = np.vstack([Y.ravel(), X.ravel()]).T\n",
    "xy = np.radians(xy[land_mask])\n",
    "\n",
    "# Create two side-by-side plots\n",
    "fig, ax = plt.subplots(1, 2)\n",
    "fig.subplots_adjust(left=0.05, right=0.95, wspace=0.05)\n",
    "species_names = ['Bradypus Variegatus', 'Microryzomys Minutus']\n",
    "cmaps = ['Purples', 'Reds']\n",
    "\n",
    "for i, axi in enumerate(ax):\n",
    "    axi.set_title(species_names[i])\n",
    "\n",
    "    # plot coastlines with basemap\n",
    "    m = Basemap(projection='cyl', llcrnrlat=Y.min(),\n",
    "                urcrnrlat=Y.max(), llcrnrlon=X.min(),\n",
    "                urcrnrlon=X.max(), resolution='c', ax=axi)\n",
    "    m.drawmapboundary(fill_color='#DDEEFF')\n",
    "    m.drawcoastlines()\n",
    "    m.drawcountries()\n",
    "\n",
    "    # construct a spherical kernel density estimate of the distribution\n",
    "    # use metric='haversine'\n",
    "    kde = #\n",
    "    # fit kde, don't forget to convert coords to radians\n",
    "\n",
    "    # evaluate only on the land: -9999 indicates ocean\n",
    "    Z = np.full(land_mask.shape[0], -9999.0)\n",
    "    Z[land_mask] = # exp of kde result\n",
    "    Z = Z.reshape(X.shape)\n",
    "\n",
    "    # plot contours of the density\n",
    "    levels = np.linspace(0, Z.max(), 25)\n",
    "    axi.contourf(X, Y, Z, levels=levels, cmap=cmaps[i])"
   ],
   "metadata": {
    "colab": {
     "base_uri": "https://localhost:8080/",
     "height": 428
    },
    "id": "1T3JZFCk0DPU",
    "outputId": "0e910f8e-8c28-4222-8f72-7cad131fe7bc"
   },
   "execution_count": null,
   "outputs": []
  },
  {
   "cell_type": "code",
   "source": [],
   "metadata": {
    "id": "MujOC0TS1cDz"
   },
   "execution_count": null,
   "outputs": []
  }
 ]
}
